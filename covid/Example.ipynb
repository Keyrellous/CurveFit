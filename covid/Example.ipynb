{
 "cells": [
  {
   "cell_type": "markdown",
   "metadata": {},
   "source": [
    "# **Run Pipeline**"
   ]
  },
  {
   "cell_type": "markdown",
   "metadata": {},
   "source": [
    "## Load Packages"
   ]
  },
  {
   "cell_type": "code",
   "execution_count": 1,
   "metadata": {},
   "outputs": [],
   "source": [
    "import warnings\n",
    "warnings.filterwarnings('ignore')"
   ]
  },
  {
   "cell_type": "code",
   "execution_count": 2,
   "metadata": {},
   "outputs": [],
   "source": [
    "import numpy as np\n",
    "import math\n",
    "import pandas as pd\n",
    "import matplotlib.pyplot as plt\n",
    "import curvefit\n",
    "from scipy import stats\n",
    "from curvefit.test_pipline import APModel\n",
    "from curvefit.utils import get_derivative_of_column_in_log_space, get_obs_se\n",
    "from curvefit.utils import truncate_draws, data_translator, convex_combination"
   ]
  },
  {
   "cell_type": "markdown",
   "metadata": {},
   "source": [
    "## Load Data"
   ]
  },
  {
   "cell_type": "code",
   "execution_count": 4,
   "metadata": {},
   "outputs": [],
   "source": [
    "df = pd.read_csv('./data/California_1.csv')\n",
    "df_cov = pd.read_csv('./data/California covariate_1.csv')\n",
    "df_cov = df_cov.rename(columns={'location': 'Location'})\n",
    "df = pd.merge(df, df_cov, on='Location', how='inner').copy()\n",
    "\n",
    "col_t = 'Days'\n",
    "col_grp = 'Location'\n",
    "col_covs = [['intercept'], ['cov_1w'], ['intercept']]\n",
    "col_obs = 'ln(age-standardized death rate)'\n",
    "fit_space = curvefit.log_erf\n",
    "\n",
    "df['intercept'] = 1.0\n",
    "df = get_derivative_of_column_in_log_space(df, col_t=col_t, col_obs=col_obs, col_grp=col_grp)\n",
    "df['daily deaths'] = np.exp(df[f'd {col_obs}'])\n",
    "\n",
    "predict_space = curvefit.derf\n",
    "col_obs_compare = 'daily deaths'"
   ]
  },
  {
   "cell_type": "markdown",
   "metadata": {},
   "source": [
    "## Settings"
   ]
  },
  {
   "cell_type": "code",
   "execution_count": 5,
   "metadata": {},
   "outputs": [],
   "source": [
    "prediction_times = np.arange(150)\n",
    "n_draws = 100"
   ]
  },
  {
   "cell_type": "code",
   "execution_count": 6,
   "metadata": {},
   "outputs": [],
   "source": [
    "# !!! for testing purpose subset the data\n",
    "df = df.loc[df.Location.isin(['Lombardia', 'Liguria'])]"
   ]
  },
  {
   "cell_type": "code",
   "execution_count": 7,
   "metadata": {},
   "outputs": [],
   "source": [
    "# !!! Tight and loose recommendations:\n",
    "# tight: fe_gprior=[[0.0, np.inf], [28.0, 0.01], [-8.05, np.inf]]\n",
    "# loose: fe_gprior=[[0.0, np.inf], [28.0, 2.], [-8.05, np.inf]]\n",
    "\n",
    "# The Alpha Prior Model\n",
    "lb = APModel(\n",
    "    all_data=df,\n",
    "    col_t='Days',\n",
    "    col_obs='ln(age-standardized death rate)',\n",
    "    col_obs_compare=col_obs_compare,\n",
    "    all_cov_names=['cov_1w'],\n",
    "    col_group='Location',\n",
    "    fun=curvefit.log_erf,\n",
    "    predict_space=predict_space,\n",
    "    prior_modifier=lambda x: 1,\n",
    "    obs_se_func=lambda x: (1 / (1 + x)),\n",
    "    basic_model_dict=dict(\n",
    "        param_names=['alpha', 'beta', 'p'],\n",
    "        col_covs=[['intercept'], ['cov_1w'], ['intercept']],\n",
    "        link_fun=[np.exp, lambda x: x, np.exp],\n",
    "        var_link_fun=[lambda x: x, lambda x: x, lambda x: x]\n",
    "    ),\n",
    "    fit_dict=dict(\n",
    "        fe_init=np.array([-2, 28.0, -8.05]),\n",
    "        fe_bounds=[[-np.inf, 0.0], [20.0, 100.0], [-10, -6]],\n",
    "        re_bounds=[[0.0, 0.0], [0.0, 0.0], [0.0, 0.0]],\n",
    "        fe_gprior=[[0.0, np.inf], [28.0, 10.], [-8.05, np.inf]],\n",
    "        re_gprior=[[0.0, np.inf], [0.0, np.inf], [0.0, np.inf]],\n",
    "        fun_gprior=[lambda params: params[0] * params[1], [np.exp(0.7), 1]],\n",
    "        options={'ftol': 1e-10,\n",
    "                  'gtol': 1e-10,\n",
    "                  'maxiter': 500,\n",
    "                  'disp': True}\n",
    "    ),\n",
    ")"
   ]
  },
  {
   "cell_type": "markdown",
   "metadata": {},
   "source": [
    "## Run Example"
   ]
  },
  {
   "cell_type": "code",
   "execution_count": 8,
   "metadata": {
    "scrolled": true
   },
   "outputs": [
    {
     "name": "stdout",
     "output_type": "stream",
     "text": [
      "Running PV for Liguria\n",
      "Running PV for Lombardiame 29.036216115613474\n",
      "[33  1] model for end time 34.930335958629605\r"
     ]
    }
   ],
   "source": [
    "lb.run(n_draws=n_draws, prediction_times=prediction_times,\n",
    "      cv_threshold=1e-4, smoothed_radius=[2, 2], exclude_groups=['Wuhan City, Hubei'],\n",
    "      exclude_below=0)"
   ]
  },
  {
   "cell_type": "code",
   "execution_count": 10,
   "metadata": {},
   "outputs": [
    {
     "data": {
      "text/html": [
       "<div>\n",
       "<style scoped>\n",
       "    .dataframe tbody tr th:only-of-type {\n",
       "        vertical-align: middle;\n",
       "    }\n",
       "\n",
       "    .dataframe tbody tr th {\n",
       "        vertical-align: top;\n",
       "    }\n",
       "\n",
       "    .dataframe thead th {\n",
       "        text-align: right;\n",
       "    }\n",
       "</style>\n",
       "<table border=\"1\" class=\"dataframe\">\n",
       "  <thead>\n",
       "    <tr style=\"text-align: right;\">\n",
       "      <th></th>\n",
       "      <th>group</th>\n",
       "      <th>far_out</th>\n",
       "      <th>num_data</th>\n",
       "      <th>residual_mean</th>\n",
       "      <th>residual_std</th>\n",
       "    </tr>\n",
       "  </thead>\n",
       "  <tbody>\n",
       "    <tr>\n",
       "      <td>0</td>\n",
       "      <td>All</td>\n",
       "      <td>1</td>\n",
       "      <td>1</td>\n",
       "      <td>-0.151606</td>\n",
       "      <td>0.468123</td>\n",
       "    </tr>\n",
       "    <tr>\n",
       "      <td>1</td>\n",
       "      <td>All</td>\n",
       "      <td>1</td>\n",
       "      <td>2</td>\n",
       "      <td>-0.119761</td>\n",
       "      <td>0.450391</td>\n",
       "    </tr>\n",
       "    <tr>\n",
       "      <td>2</td>\n",
       "      <td>All</td>\n",
       "      <td>1</td>\n",
       "      <td>3</td>\n",
       "      <td>-0.070876</td>\n",
       "      <td>0.438327</td>\n",
       "    </tr>\n",
       "    <tr>\n",
       "      <td>3</td>\n",
       "      <td>All</td>\n",
       "      <td>1</td>\n",
       "      <td>4</td>\n",
       "      <td>-0.221061</td>\n",
       "      <td>0.475826</td>\n",
       "    </tr>\n",
       "    <tr>\n",
       "      <td>4</td>\n",
       "      <td>All</td>\n",
       "      <td>1</td>\n",
       "      <td>5</td>\n",
       "      <td>-0.331300</td>\n",
       "      <td>0.648527</td>\n",
       "    </tr>\n",
       "    <tr>\n",
       "      <td>...</td>\n",
       "      <td>...</td>\n",
       "      <td>...</td>\n",
       "      <td>...</td>\n",
       "      <td>...</td>\n",
       "      <td>...</td>\n",
       "    </tr>\n",
       "    <tr>\n",
       "      <td>556</td>\n",
       "      <td>All</td>\n",
       "      <td>31</td>\n",
       "      <td>2</td>\n",
       "      <td>-9.461551</td>\n",
       "      <td>3.385579</td>\n",
       "    </tr>\n",
       "    <tr>\n",
       "      <td>557</td>\n",
       "      <td>All</td>\n",
       "      <td>31</td>\n",
       "      <td>3</td>\n",
       "      <td>-9.164157</td>\n",
       "      <td>3.459779</td>\n",
       "    </tr>\n",
       "    <tr>\n",
       "      <td>558</td>\n",
       "      <td>All</td>\n",
       "      <td>32</td>\n",
       "      <td>1</td>\n",
       "      <td>-9.788348</td>\n",
       "      <td>3.916095</td>\n",
       "    </tr>\n",
       "    <tr>\n",
       "      <td>559</td>\n",
       "      <td>All</td>\n",
       "      <td>32</td>\n",
       "      <td>2</td>\n",
       "      <td>-9.790489</td>\n",
       "      <td>3.692136</td>\n",
       "    </tr>\n",
       "    <tr>\n",
       "      <td>560</td>\n",
       "      <td>All</td>\n",
       "      <td>33</td>\n",
       "      <td>1</td>\n",
       "      <td>-9.994302</td>\n",
       "      <td>4.282961</td>\n",
       "    </tr>\n",
       "  </tbody>\n",
       "</table>\n",
       "<p>561 rows × 5 columns</p>\n",
       "</div>"
      ],
      "text/plain": [
       "    group  far_out  num_data  residual_mean  residual_std\n",
       "0     All        1         1      -0.151606      0.468123\n",
       "1     All        1         2      -0.119761      0.450391\n",
       "2     All        1         3      -0.070876      0.438327\n",
       "3     All        1         4      -0.221061      0.475826\n",
       "4     All        1         5      -0.331300      0.648527\n",
       "..    ...      ...       ...            ...           ...\n",
       "556   All       31         2      -9.461551      3.385579\n",
       "557   All       31         3      -9.164157      3.459779\n",
       "558   All       32         1      -9.788348      3.916095\n",
       "559   All       32         2      -9.790489      3.692136\n",
       "560   All       33         1      -9.994302      4.282961\n",
       "\n",
       "[561 rows x 5 columns]"
      ]
     },
     "execution_count": 10,
     "metadata": {},
     "output_type": "execute_result"
    }
   ],
   "source": [
    "lb.forecaster.residual_model.smoothed"
   ]
  },
  {
   "cell_type": "code",
   "execution_count": 11,
   "metadata": {},
   "outputs": [
    {
     "data": {
      "image/png": "[encoded data removed]",
      "text/plain": [
       "<Figure size 576x576 with 2 Axes>"
      ]
     },
     "metadata": {
      "needs_background": "light"
     },
     "output_type": "display_data"
    }
   ],
   "source": [
    "lb.plot_draws(prediction_times=prediction_times, sharex=True, sharey=False)"
   ]
  },
  {
   "cell_type": "code",
   "execution_count": 92,
   "metadata": {},
   "outputs": [],
   "source": [
    "d = lb.forecaster.std_residual_model.smoothed.pivot('num_data', 'far_out', 'residual_std')\n",
    "d.to_csv('~/OneDrive/Documents/covid/LOOSE_PRIOR_NO_ADAPTIVE.csv')"
   ]
  },
  {
   "cell_type": "markdown",
   "metadata": {},
   "source": [
    "## Truncate Draws"
   ]
  },
  {
   "cell_type": "code",
   "execution_count": 12,
   "metadata": {},
   "outputs": [],
   "source": [
    "# !!! the draws will be in linear daily death rate space\n",
    "draws = {}\n",
    "for group in lb.groups:\n",
    "    group_draws = truncate_draws(t=prediction_times, draws=lb.draws[group],\n",
    "                                 draw_space=predict_space,\n",
    "                                 last_day=lb.models[group].t[-1],\n",
    "                                 last_obs=lb.models[group].obs[-1],\n",
    "                                 last_obs_space=fit_space)\n",
    "    group_time = prediction_times[int(np.round(lb.models[group].t[-1])):]\n",
    "    draws.update({\n",
    "        group: (group_time, group_draws)\n",
    "    })"
   ]
  },
  {
   "cell_type": "code",
   "execution_count": 13,
   "metadata": {},
   "outputs": [
    {
     "data": {
      "image/png": "[encoded data removed]",
      "text/plain": [
       "<Figure size 576x576 with 2 Axes>"
      ]
     },
     "metadata": {
      "needs_background": "light"
     },
     "output_type": "display_data"
    }
   ],
   "source": [
    "fig, ax = plt.subplots(len(lb.groups), 1, figsize=(8, 4*len(lb.groups)))\n",
    "for i, group in enumerate(lb.groups):\n",
    "    ax[i].scatter(lb.models[group].t, lb.models[group].obs)\n",
    "    times = draws[group][0]\n",
    "    draws_lb = np.log(np.quantile(np.cumsum(draws[group][1], axis=1), 0.05, axis=0))\n",
    "    draws_ub = np.log(np.quantile(np.cumsum(draws[group][1], axis=1), 0.95, axis=0))\n",
    "    ax[i].fill_between(times, draws_lb, draws_ub)"
   ]
  },
  {
   "cell_type": "markdown",
   "metadata": {},
   "source": [
    "## Create Overall Draws"
   ]
  },
  {
   "cell_type": "code",
   "execution_count": 14,
   "metadata": {},
   "outputs": [],
   "source": [
    "# !!! Need to change covs for each location\n",
    "models = lb.run_filtered_models(df=lb.all_data, obs_bounds=[15, np.inf])\n",
    "overall_draws = lb.create_overall_draws(prediction_times, models=models,\n",
    "                       covs=np.array([1, 1, 1]), predict_fun=predict_space,\n",
    "                       alpha_times_beta=np.exp(0.7), sample_size=n_draws)"
   ]
  },
  {
   "cell_type": "markdown",
   "metadata": {},
   "source": [
    "## Example of Convex combination"
   ]
  },
  {
   "cell_type": "code",
   "execution_count": 17,
   "metadata": {},
   "outputs": [],
   "source": [
    "draw1 = np.random.rand(n_draws, len(prediction_times))\n",
    "draw2 = np.random.rand(n_draws, len(prediction_times))\n",
    "\n",
    "combined_draw = convex_combination(prediction_times,\n",
    "                                   draw1, draw2,\n",
    "                                   predict_space,\n",
    "                                   start_day=2,\n",
    "                                   end_day=20)"
   ]
  },
  {
   "cell_type": "code",
   "execution_count": 18,
   "metadata": {},
   "outputs": [
    {
     "data": {
      "text/plain": [
       "(100, 150)"
      ]
     },
     "execution_count": 18,
     "metadata": {},
     "output_type": "execute_result"
    }
   ],
   "source": [
    "combined_draw.shape"
   ]
  },
  {
   "cell_type": "code",
   "execution_count": null,
   "metadata": {},
   "outputs": [],
   "source": []
  }
 ],
 "metadata": {
  "kernelspec": {
   "display_name": "Python 3",
   "language": "python",
   "name": "python3"
  },
  "language_info": {
   "codemirror_mode": {
    "name": "ipython",
    "version": 3
   },
   "file_extension": ".py",
   "mimetype": "text/x-python",
   "name": "python",
   "nbconvert_exporter": "python",
   "pygments_lexer": "ipython3",
   "version": "3.7.3"
  }
 },
 "nbformat": 4,
 "nbformat_minor": 4
}
