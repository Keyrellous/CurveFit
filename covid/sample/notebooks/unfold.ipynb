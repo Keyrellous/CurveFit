{
 "cells": [
  {
   "cell_type": "code",
   "execution_count": 1,
   "metadata": {},
   "outputs": [],
   "source": [
    "import pandas as pd\n",
    "import numpy as np\n",
    "import curvefit\n",
    "from curvefit.model import CurveModel\n",
    "from curvefit.utils import get_derivative_of_column_in_log_space, get_obs_se\n",
    "from curvefit.utils import truncate_draws, data_translator, convex_combination"
   ]
  },
  {
   "cell_type": "code",
   "execution_count": 2,
   "metadata": {},
   "outputs": [],
   "source": [
    "file_path_data = '../data/Slovakia.csv'\n",
    "file_path_covariate = '../data/Slovakia covariate.csv'\n",
    "\n",
    "df = pd.read_csv(file_path_data)\n",
    "df_cov = pd.read_csv(file_path_covariate)\n",
    "\n",
    "df_cov = df_cov.rename(columns={'location': 'Location'})\n",
    "df = pd.merge(df, df_cov, on='Location', how='inner').copy()\n",
    "\n",
    "df['intercept'] = 1.0\n",
    "df = get_derivative_of_column_in_log_space(\n",
    "    df,\n",
    "    col_t='Days',\n",
    "    col_obs='ln(age-standardized death rate)',\n",
    "    col_grp='Location',\n",
    ")\n",
    "df['daily deaths'] = np.exp(df['d ln(age-standardized death rate)'])\n",
    "df['obs_std_tight'] = 1 / (1.0 + df['Days'])\n",
    "df['obs_std_loose'] = 1 / (0.1 + df['Days']**2)\n",
    "df['obs_std_none'] = 0.01\n",
    "\n",
    "df.to_csv('../data/Slovakia_combined.csv', index=False)\n",
    "df.head()"
   ]
  },
  {
   "cell_type": "markdown",
   "metadata": {},
   "source": [
    "#### Load data"
   ]
  },
  {
   "cell_type": "code",
   "execution_count": 3,
   "metadata": {},
   "outputs": [
    {
     "data": {
      "text/html": [
       "<div>\n",
       "<style scoped>\n",
       "    .dataframe tbody tr th:only-of-type {\n",
       "        vertical-align: middle;\n",
       "    }\n",
       "\n",
       "    .dataframe tbody tr th {\n",
       "        vertical-align: top;\n",
       "    }\n",
       "\n",
       "    .dataframe thead th {\n",
       "        text-align: right;\n",
       "    }\n",
       "</style>\n",
       "<table border=\"1\" class=\"dataframe\">\n",
       "  <thead>\n",
       "    <tr style=\"text-align: right;\">\n",
       "      <th></th>\n",
       "      <th>location_id</th>\n",
       "      <th>Location</th>\n",
       "      <th>Country/Region_x</th>\n",
       "      <th>Date</th>\n",
       "      <th>Days</th>\n",
       "      <th>Deaths</th>\n",
       "      <th>Death rate</th>\n",
       "      <th>population</th>\n",
       "      <th>Implied death rate</th>\n",
       "      <th>Age-standardized death rate</th>\n",
       "      <th>...</th>\n",
       "      <th>composite_1w</th>\n",
       "      <th>composite_3w</th>\n",
       "      <th>cov_1w</th>\n",
       "      <th>cov_3w</th>\n",
       "      <th>intercept</th>\n",
       "      <th>d ln(age-standardized death rate)</th>\n",
       "      <th>daily deaths</th>\n",
       "      <th>obs_std_tight</th>\n",
       "      <th>obs_std_loose</th>\n",
       "      <th>obs_std_none</th>\n",
       "    </tr>\n",
       "  </thead>\n",
       "  <tbody>\n",
       "    <tr>\n",
       "      <td>0</td>\n",
       "      <td>35507</td>\n",
       "      <td>Abruzzo</td>\n",
       "      <td>Italy</td>\n",
       "      <td>2020-03-14</td>\n",
       "      <td>4.481815</td>\n",
       "      <td>2.0</td>\n",
       "      <td>0.000002</td>\n",
       "      <td>1.312214e+06</td>\n",
       "      <td>0.000015</td>\n",
       "      <td>9.551844e-07</td>\n",
       "      <td>...</td>\n",
       "      <td>-2.428571</td>\n",
       "      <td>-2.428571</td>\n",
       "      <td>0.714286</td>\n",
       "      <td>0.714286</td>\n",
       "      <td>1.0</td>\n",
       "      <td>-15.360065</td>\n",
       "      <td>2.134069e-07</td>\n",
       "      <td>0.182421</td>\n",
       "      <td>0.049538</td>\n",
       "      <td>0.01</td>\n",
       "    </tr>\n",
       "    <tr>\n",
       "      <td>1</td>\n",
       "      <td>35507</td>\n",
       "      <td>Abruzzo</td>\n",
       "      <td>Italy</td>\n",
       "      <td>2020-03-15</td>\n",
       "      <td>5.481815</td>\n",
       "      <td>3.0</td>\n",
       "      <td>0.000002</td>\n",
       "      <td>1.312214e+06</td>\n",
       "      <td>0.000015</td>\n",
       "      <td>1.432777e-06</td>\n",
       "      <td>...</td>\n",
       "      <td>-2.428571</td>\n",
       "      <td>-2.428571</td>\n",
       "      <td>0.714286</td>\n",
       "      <td>0.714286</td>\n",
       "      <td>1.0</td>\n",
       "      <td>-15.386896</td>\n",
       "      <td>2.077571e-07</td>\n",
       "      <td>0.154278</td>\n",
       "      <td>0.033167</td>\n",
       "      <td>0.01</td>\n",
       "    </tr>\n",
       "    <tr>\n",
       "      <td>2</td>\n",
       "      <td>35507</td>\n",
       "      <td>Abruzzo</td>\n",
       "      <td>Italy</td>\n",
       "      <td>2020-03-16</td>\n",
       "      <td>6.481815</td>\n",
       "      <td>4.0</td>\n",
       "      <td>0.000003</td>\n",
       "      <td>1.312214e+06</td>\n",
       "      <td>0.000015</td>\n",
       "      <td>1.910369e-06</td>\n",
       "      <td>...</td>\n",
       "      <td>-2.428571</td>\n",
       "      <td>-2.428571</td>\n",
       "      <td>0.714286</td>\n",
       "      <td>0.714286</td>\n",
       "      <td>1.0</td>\n",
       "      <td>-14.311038</td>\n",
       "      <td>6.092493e-07</td>\n",
       "      <td>0.133657</td>\n",
       "      <td>0.023745</td>\n",
       "      <td>0.01</td>\n",
       "    </tr>\n",
       "    <tr>\n",
       "      <td>3</td>\n",
       "      <td>35507</td>\n",
       "      <td>Abruzzo</td>\n",
       "      <td>Italy</td>\n",
       "      <td>2020-03-17</td>\n",
       "      <td>7.481815</td>\n",
       "      <td>6.0</td>\n",
       "      <td>0.000005</td>\n",
       "      <td>1.312214e+06</td>\n",
       "      <td>0.000015</td>\n",
       "      <td>2.865553e-06</td>\n",
       "      <td>...</td>\n",
       "      <td>-2.428571</td>\n",
       "      <td>-2.428571</td>\n",
       "      <td>0.714286</td>\n",
       "      <td>0.714286</td>\n",
       "      <td>1.0</td>\n",
       "      <td>-14.248731</td>\n",
       "      <td>6.484177e-07</td>\n",
       "      <td>0.117899</td>\n",
       "      <td>0.017832</td>\n",
       "      <td>0.01</td>\n",
       "    </tr>\n",
       "    <tr>\n",
       "      <td>4</td>\n",
       "      <td>35507</td>\n",
       "      <td>Abruzzo</td>\n",
       "      <td>Italy</td>\n",
       "      <td>2020-03-18</td>\n",
       "      <td>8.481815</td>\n",
       "      <td>7.0</td>\n",
       "      <td>0.000005</td>\n",
       "      <td>1.312214e+06</td>\n",
       "      <td>0.000015</td>\n",
       "      <td>3.343145e-06</td>\n",
       "      <td>...</td>\n",
       "      <td>-2.428571</td>\n",
       "      <td>-2.428571</td>\n",
       "      <td>0.714286</td>\n",
       "      <td>0.714286</td>\n",
       "      <td>1.0</td>\n",
       "      <td>-13.760265</td>\n",
       "      <td>1.056800e-06</td>\n",
       "      <td>0.105465</td>\n",
       "      <td>0.013881</td>\n",
       "      <td>0.01</td>\n",
       "    </tr>\n",
       "  </tbody>\n",
       "</table>\n",
       "<p>5 rows × 31 columns</p>\n",
       "</div>"
      ],
      "text/plain": [
       "   location_id Location Country/Region_x        Date      Days  Deaths  \\\n",
       "0        35507  Abruzzo            Italy  2020-03-14  4.481815     2.0   \n",
       "1        35507  Abruzzo            Italy  2020-03-15  5.481815     3.0   \n",
       "2        35507  Abruzzo            Italy  2020-03-16  6.481815     4.0   \n",
       "3        35507  Abruzzo            Italy  2020-03-17  7.481815     6.0   \n",
       "4        35507  Abruzzo            Italy  2020-03-18  8.481815     7.0   \n",
       "\n",
       "   Death rate    population  Implied death rate  Age-standardized death rate  \\\n",
       "0    0.000002  1.312214e+06            0.000015                 9.551844e-07   \n",
       "1    0.000002  1.312214e+06            0.000015                 1.432777e-06   \n",
       "2    0.000003  1.312214e+06            0.000015                 1.910369e-06   \n",
       "3    0.000005  1.312214e+06            0.000015                 2.865553e-06   \n",
       "4    0.000005  1.312214e+06            0.000015                 3.343145e-06   \n",
       "\n",
       "   ...  composite_1w  composite_3w    cov_1w    cov_3w  intercept  \\\n",
       "0  ...     -2.428571     -2.428571  0.714286  0.714286        1.0   \n",
       "1  ...     -2.428571     -2.428571  0.714286  0.714286        1.0   \n",
       "2  ...     -2.428571     -2.428571  0.714286  0.714286        1.0   \n",
       "3  ...     -2.428571     -2.428571  0.714286  0.714286        1.0   \n",
       "4  ...     -2.428571     -2.428571  0.714286  0.714286        1.0   \n",
       "\n",
       "   d ln(age-standardized death rate)  daily deaths obs_std_tight  \\\n",
       "0                         -15.360065  2.134069e-07      0.182421   \n",
       "1                         -15.386896  2.077571e-07      0.154278   \n",
       "2                         -14.311038  6.092493e-07      0.133657   \n",
       "3                         -14.248731  6.484177e-07      0.117899   \n",
       "4                         -13.760265  1.056800e-06      0.105465   \n",
       "\n",
       "   obs_std_loose  obs_std_none  \n",
       "0       0.049538          0.01  \n",
       "1       0.033167          0.01  \n",
       "2       0.023745          0.01  \n",
       "3       0.017832          0.01  \n",
       "4       0.013881          0.01  \n",
       "\n",
       "[5 rows x 31 columns]"
      ]
     },
     "execution_count": 3,
     "metadata": {},
     "output_type": "execute_result"
    }
   ],
   "source": [
    "df = pd.read_csv('../data/Slovakia_combined.csv')\n",
    "df.head()"
   ]
  },
  {
   "cell_type": "markdown",
   "metadata": {},
   "source": [
    "#### Run on peaked group"
   ]
  },
  {
   "cell_type": "code",
   "execution_count": 4,
   "metadata": {},
   "outputs": [],
   "source": [
    "peaked_group = [\n",
    "    'Wuhan City, Hubei',\n",
    "    'Piemonte',\n",
    "    'Comunidad de Madrid',\n",
    "    'Emilia-Romagna',\n",
    "    'Toscana',\n",
    "    'Liguria',\n",
    "    'Lombardia',\n",
    "    'King and Snohomish Counties (excluding Life Care Center), WA',\n",
    "]"
   ]
  },
  {
   "cell_type": "markdown",
   "metadata": {},
   "source": [
    "- create the model (no adjustment in std or prior modifier)"
   ]
  },
  {
   "cell_type": "code",
   "execution_count": 5,
   "metadata": {},
   "outputs": [],
   "source": [
    "model_info_dict = dict(\n",
    "    col_t='Days',\n",
    "    col_obs='ln(age-standardized death rate)',\n",
    "    col_covs=[['intercept'], ['cov_1w'], ['intercept']],\n",
    "    col_group='Location',\n",
    "    param_names=['alpha', 'beta', 'p'],\n",
    "    link_fun=[np.exp, lambda x: x, np.exp],\n",
    "    var_link_fun=[lambda x: x, lambda x: x, lambda x: x],\n",
    "    fun=curvefit.log_erf,\n",
    "    col_obs_se='obs_std_tight',\n",
    ")"
   ]
  },
  {
   "cell_type": "code",
   "execution_count": 6,
   "metadata": {},
   "outputs": [],
   "source": [
    "peaked_model = CurveModel(df[df['Location'].isin(peaked_group)], **model_info_dict)"
   ]
  },
  {
   "cell_type": "markdown",
   "metadata": {},
   "source": [
    "- fit the model"
   ]
  },
  {
   "cell_type": "code",
   "execution_count": 7,
   "metadata": {},
   "outputs": [],
   "source": [
    "dummy_gprior = [0.0, np.inf]\n",
    "dummy_uprior = [-np.inf, np.inf]\n",
    "zero_uprior = [0.0, 0.0]\n",
    "fe_init = np.array([-3, 28.0, -8.05])\n",
    "fe_bounds = [[-np.inf, 0.0], [15.0, 100.0], [-10, -6]]\n",
    "options = {\n",
    "    'ftol': 1e-10,\n",
    "    'gtol': 1e-10,\n",
    "    'maxiter': 500,\n",
    "    'disp': True,\n",
    "}\n",
    "\n",
    "basic_model_fit_dict = dict(\n",
    "    fe_gprior=[dummy_gprior]*3,\n",
    "    re_bounds=[dummy_uprior]*3,\n",
    "    re_gprior=[dummy_gprior, [0.0, 10.0], dummy_gprior],\n",
    "    smart_initialize=True,\n",
    "    smart_init_options=options,\n",
    "    options={\n",
    "        'ftol': 1e-10,\n",
    "        'gtol': 1e-10,\n",
    "        'maxiter': 10,\n",
    "        'disp': True\n",
    "    },\n",
    ")"
   ]
  },
  {
   "cell_type": "code",
   "execution_count": 8,
   "metadata": {},
   "outputs": [
    {
     "name": "stdout",
     "output_type": "stream",
     "text": [
      "Overriding fe_init with [-2.49472121 24.94638039 -8.51503884].\n",
      "Overriding re_init with [-0.05845352  0.27565028  0.43756421 -0.2057905  -4.56488025 -0.57234887\n",
      "  0.0808492   0.37928015  0.08715508 -0.05896036  1.81542475  1.18477236\n",
      "  0.00597866  1.66004304 -0.07440037  0.41094309 -3.19493044 -1.4652553\n",
      " -0.17456658  3.62941247  0.40251289].\n"
     ]
    }
   ],
   "source": [
    "peaked_model.fit_params(fe_init, **basic_model_fit_dict)"
   ]
  },
  {
   "cell_type": "markdown",
   "metadata": {},
   "source": [
    "- compute Gaussian prior for beta based on fit"
   ]
  },
  {
   "cell_type": "code",
   "execution_count": 9,
   "metadata": {},
   "outputs": [
    {
     "name": "stdout",
     "output_type": "stream",
     "text": [
      "beta mean 24.946389025697094\n",
      "beta_fe_std 2.6845074001914395\n"
     ]
    }
   ],
   "source": [
    "fe_peaked, re_peaked = peaked_model.unzip_x(peaked_model.result.x)\n",
    "beta_fe_mean = fe_peaked[1]\n",
    "beta_fe_std = np.std(re_peaked[:, 1])\n",
    "print('beta mean', beta_fe_mean)\n",
    "print('beta_fe_std', beta_fe_std)"
   ]
  },
  {
   "cell_type": "markdown",
   "metadata": {},
   "source": [
    "#### Fit a specific location "
   ]
  },
  {
   "cell_type": "code",
   "execution_count": 10,
   "metadata": {},
   "outputs": [
    {
     "name": "stdout",
     "output_type": "stream",
     "text": [
      "Basilicata\n"
     ]
    }
   ],
   "source": [
    "location = 'Basilicata'\n",
    "# all_locations = np.unique(df['Location'].values)\n",
    "# location = np.random.choice(all_locations)\n",
    "print(location)\n",
    "one_loc_model = CurveModel(df[df['Location'].isin([location])], **model_info_dict)"
   ]
  },
  {
   "cell_type": "code",
   "execution_count": 11,
   "metadata": {},
   "outputs": [],
   "source": [
    "one_loc_fit_dict = basic_model_fit_dict.copy()"
   ]
  },
  {
   "cell_type": "code",
   "execution_count": 12,
   "metadata": {},
   "outputs": [],
   "source": [
    "prior_modifier = lambda x: 10**(min(0.0, max(-1.0, 0.1*x - 1.5)))\n",
    "one_loc_fit_dict['fe_gprior'] = [\n",
    "    dummy_gprior, \n",
    "    [beta_fe_mean, prior_modifier(one_loc_model.num_obs) * beta_fe_std], \n",
    "    dummy_gprior,\n",
    "]\n",
    "one_loc_fit_dict['smart_initialize'] = False\n",
    "one_loc_fit_dict['options']['maxiter'] = 50"
   ]
  },
  {
   "cell_type": "code",
   "execution_count": 13,
   "metadata": {},
   "outputs": [],
   "source": [
    "one_loc_model.fit_params(fe_peaked, **one_loc_fit_dict)"
   ]
  },
  {
   "cell_type": "markdown",
   "metadata": {},
   "source": [
    "- plot results for one location"
   ]
  },
  {
   "cell_type": "code",
   "execution_count": 14,
   "metadata": {},
   "outputs": [],
   "source": [
    "import matplotlib.pyplot as plt\n",
    "def plot_one_loc(t, model):\n",
    "    fig, ax = plt.subplots(1, 2, figsize=(8*2, 4))\n",
    "    y = model.fun(t, model.params[:, 0])\n",
    "    ax[0].scatter(model.t, model.obs)\n",
    "    ax[0].plot(t, y)\n",
    "    ax[0].set_title(location)\n",
    "\n",
    "    dy = curvefit.derf(t, model.params[:, 0])\n",
    "    derf_obs = data_translator(\n",
    "        model.obs,\n",
    "        model_info_dict['fun'], \n",
    "        'derf',\n",
    "    )\n",
    "    ax[1].scatter(model.t, derf_obs)\n",
    "    ax[1].plot(t, dy)\n",
    "    ax[1].set_title(location)\n",
    "    ax[1].set_ylim(0.0, max(dy.max(), derf_obs.max())*1.1)"
   ]
  },
  {
   "cell_type": "code",
   "execution_count": 15,
   "metadata": {},
   "outputs": [
    {
     "data": {
      "image/png": "[encoded data removed]",
      "text/plain": [
       "<Figure size 1152x288 with 2 Axes>"
      ]
     },
     "metadata": {
      "needs_background": "light"
     },
     "output_type": "display_data"
    }
   ],
   "source": [
    "plot_one_loc(np.arange(150), one_loc_model)"
   ]
  },
  {
   "cell_type": "code",
   "execution_count": null,
   "metadata": {},
   "outputs": [],
   "source": []
  }
 ],
 "metadata": {
  "kernelspec": {
   "display_name": "Python 3",
   "language": "python",
   "name": "python3"
  },
  "language_info": {
   "codemirror_mode": {
    "name": "ipython",
    "version": 3
   },
   "file_extension": ".py",
   "mimetype": "text/x-python",
   "name": "python",
   "nbconvert_exporter": "python",
   "pygments_lexer": "ipython3",
   "version": "3.7.3"
  }
 },
 "nbformat": 4,
 "nbformat_minor": 2
}
